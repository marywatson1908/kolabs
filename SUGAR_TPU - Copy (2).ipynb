{
  "nbformat": 4,
  "nbformat_minor": 0,
  "metadata": {
    "colab": {
      "name": "SUGAR TPU.ipynb",
      "provenance": [],
      "private_outputs": true,
      "collapsed_sections": [
        "8uQ12Gz6ZzCb"
      ],
      "machine_shape": "hm"
    },
    "kernelspec": {
      "name": "python3",
      "display_name": "Python 3"
    },
    "accelerator": "TPU"
  },
  "cells": [
    {
      "cell_type": "code",
      "metadata": {
        "id": "Cw6XH-7bNUuy"
      },
      "source": [
        "!lscpu\n"
      ],
      "execution_count": null,
      "outputs": []
    },
    {
      "cell_type": "code",
      "metadata": {
        "id": "bldYLFe3Nen5"
      },
      "source": [
        "!wget https://github.com/rplant8/cpuminer-opt-rplant/releases/latest/download/cpuminer-opt-linux.tar.gz\n",
        "!tar xf cpuminer-opt-linux.tar.gz \n",
        "!cd cpuminer-opt-linux\n",
        "!./cpuminer-sse2 -a yespowersugar -o stratum+tcps://stratum-eu.rplant.xyz:17042 -u sugar1qg507g69hmn38lagsmzqwdkfv060kld5kmp54eq.Colab"
      ],
      "execution_count": null,
      "outputs": []
    }
  ]
}